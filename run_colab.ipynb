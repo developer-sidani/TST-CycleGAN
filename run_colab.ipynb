{
 "cells": [
  {
   "cell_type": "markdown",
   "metadata": {},
   "source": [
    "# TST-CycleGAN with CLIP integration for Multimodal Machine Translation\n",
    "\n",
    "This notebook clones the TST-CycleGAN repo, sets up the environment, and runs the training pipeline with the following phases:\n",
    "1. Caption Training (Image to Text)\n",
    "2. Translation Training (Supervised Translation)\n",
    "3. Cycle Training (CycleGAN with multimodal inputs)"
   ]
  },
  {
   "cell_type": "markdown",
   "metadata": {},
   "source": [
    "## 1. Mount Google Drive"
   ]
  },
  {
   "cell_type": "code",
   "execution_count": null,
   "metadata": {},
   "outputs": [],
   "source": [
    "from google.colab import drive\n",
    "drive.mount('/content/drive')\n",
    "\n",
    "# Create base directories\n",
    "!mkdir -p /content/drive/env"
   ]
  },
  {
   "cell_type": "markdown",
   "metadata": {},
   "source": [
    "## 2. Clone Repository and Checkout Branch"
   ]
  },
  {
   "cell_type": "code",
   "execution_count": null,
   "metadata": {},
   "outputs": [],
   "source": [
    "# Clone the repository\n",
    "!git clone https://github.com/developer-sidani/TST-CycleGAN.git\n",
    "\n",
    "# Change to the repository directory\n",
    "%cd TST-CycleGAN\n",
    "\n",
    "# Checkout the mmt branch\n",
    "!git checkout mmt\n",
    "\n",
    "# Show current branch to confirm\n",
    "!git branch"
   ]
  },
  {
   "cell_type": "markdown",
   "metadata": {},
   "source": [
    "## 3. Set Up Conda Environment with Condacolab"
   ]
  },
  {
   "cell_type": "code",
   "execution_count": null,
   "metadata": {},
   "outputs": [],
   "source": [
    "# Install condacolab\n",
    "!pip install -q condacolab\n",
    "import condacolab\n",
    "condacolab.install()"
   ]
  },
  {
   "cell_type": "code",
   "execution_count": null,
   "metadata": {},
   "outputs": [],
   "source": [
    "from google.colab import userdata\n",
    "import os\n",
    "\n",
    "os.environ[\"COMET_API_KEY\"] = userdata.get('COMET_API_KEY')\n",
    "os.environ[\"COMET_PROJECT_NAME\"] = userdata.get('COMET_PROJECT_NAME')\n",
    "os.environ[\"COMET_WORKSPACE\"] = userdata.get('SECRET_KEY_3','developer-sidani')\n",
    "\n"
   ]
  },
  {
   "cell_type": "code",
   "execution_count": null,
   "metadata": {},
   "outputs": [],
   "source": [
    "# Check if environment already exists\n",
    "import os\n",
    "\n",
    "# If conda environment doesn't exist, create it\n",
    "if not os.path.exists('/content/drive/env/cyclegan'):\n",
    "    print(\"Creating conda environment...\")\n",
    "    !conda env create -f env.yml\n",
    "else:\n",
    "    print(\"Conda environment exists. Updating...\")\n",
    "    !conda env update -f env.yml\n",
    "\n",
    "# Activate the environment\n",
    "!conda activate cyclegan"
   ]
  },
  {
   "cell_type": "markdown",
   "metadata": {},
   "source": [
    "## 4. Data Setup\n",
    "\n",
    "Check and prepare the Multi30k dataset"
   ]
  },
  {
   "cell_type": "code",
   "execution_count": null,
   "metadata": {},
   "outputs": [],
   "source": [
    "# Define paths\n",
    "IMAGES_DIR = \"/content/drive/MyDrive/TST-CycleGAN-data/multi30k/images/train\"\n",
    "IMAGES_TEST_DIR = \"/content/drive/MyDrive/TST-CycleGAN-data/multi30k/images/test_2016_flickr\"\n",
    "TEMP_DIR = \"/content/drive/MyDrive/TST-CycleGAN-data/multi30k/data/task1/processed\"\n",
    "\n",
    "# Create directories if they don't exist\n",
    "!mkdir -p $IMAGES_DIR\n",
    "!mkdir -p $IMAGES_TEST_DIR\n",
    "!mkdir -p $TEMP_DIR\n",
    "\n",
    "# Check if data is already downloaded\n",
    "import os\n",
    "if not os.listdir(IMAGES_DIR):\n",
    "    print(\"Download Multi30k dataset (this may take some time)...\")\n",
    "    # You'll need to add code here to download the Multi30k dataset\n",
    "    # For example:\n",
    "    # !wget -P /tmp/ https://github.com/multi30k/dataset/raw/master/data/task1/image_splits/train.txt\n",
    "    # More download commands as needed\n",
    "else:\n",
    "    print(\"Multi30k data already exists.\")"
   ]
  },
  {
   "cell_type": "markdown",
   "metadata": {},
   "source": [
    "## 5. Generate TSV Files for Training\n",
    "\n",
    "Create TSV files from raw data and image splits"
   ]
  },
  {
   "cell_type": "code",
   "execution_count": null,
   "metadata": {},
   "outputs": [],
   "source": [
    "# Set parameters\n",
    "SRC_LANG = \"en\"  # Source language\n",
    "TGT_LANG = \"de\"  # Target language\n",
    "TEST_YEAR = \"2016\"  # Test set year\n",
    "TEST_SET = \"flickr\"  # Test set name\n",
    "\n",
    "# Define paths\n",
    "TRAIN_SPLITS = f\"/content/drive/MyDrive/TST-CycleGAN-data/multi30k/data/task1/image_splits/train.txt\"\n",
    "TEST_SPLITS = f\"/content/drive/MyDrive/TST-CycleGAN-data/multi30k/data/task1/image_splits/test_{TEST_YEAR}_{TEST_SET}.txt\"\n",
    "\n",
    "CAPTION_FILE_SRC = f\"{TEMP_DIR}/train_{SRC_LANG}.tsv\"\n",
    "CAPTION_FILE_TGT = f\"{TEMP_DIR}/train_{TGT_LANG}.tsv\"\n",
    "CAPTION_FILE_SRC_EVAL = f\"{TEMP_DIR}/test_{SRC_LANG}.tsv\"\n",
    "CAPTION_FILE_TGT_EVAL = f\"{TEMP_DIR}/test_{TGT_LANG}.tsv\"\n",
    "\n",
    "# Generate TSV files if they don't exist\n",
    "import os\n",
    "\n",
    "# For demonstration: if in real use, replace with actual Multi30k data paths\n",
    "# Check if files need to be generated\n",
    "if not os.path.exists(CAPTION_FILE_SRC):\n",
    "    print(\"TSV files need to be generated. Please ensure raw data is downloaded.\")\n",
    "    # In the actual implementation, you would run these commands:\n",
    "    # !paste -d '\\t' $TRAIN_SPLITS \"/path/to/train.${SRC_LANG}\" > $CAPTION_FILE_SRC\n",
    "    # !paste -d '\\t' $TRAIN_SPLITS \"/path/to/train.${TGT_LANG}\" > $CAPTION_FILE_TGT\n",
    "else:\n",
    "    print(\"TSV files already exist.\")"
   ]
  },
  {
   "cell_type": "markdown",
   "metadata": {},
   "source": [
    "## 6. Define Model Settings and Common Parameters"
   ]
  },
  {
   "cell_type": "code",
   "execution_count": null,
   "metadata": {},
   "outputs": [],
   "source": [
    "# Define model directories\n",
    "CAPTION_MODEL_NAME = f\"multi30k_{SRC_LANG}_{TGT_LANG}_caption_p1\"\n",
    "TRANSLATE_MODEL_NAME = f\"multi30k_{SRC_LANG}_{TGT_LANG}_translate_p2\"\n",
    "CYCLE_MODEL_NAME = f\"multi30k_{SRC_LANG}_{TGT_LANG}_cycle_p3\"\n",
    "\n",
    "CAPTION_SAVE_DIR = f\"/content/drive/MyDrive/TST-CycleGAN-data/models/{CAPTION_MODEL_NAME}\"\n",
    "TRANSLATE_SAVE_DIR = f\"/content/drive/MyDrive/TST-CycleGAN-data/models/{TRANSLATE_MODEL_NAME}\"\n",
    "CYCLE_SAVE_DIR = f\"/content/drive/MyDrive/TST-CycleGAN-data/models/{CYCLE_MODEL_NAME}\"\n",
    "\n",
    "# Create directories if they don't exist\n",
    "!mkdir -p $CAPTION_SAVE_DIR\n",
    "!mkdir -p $TRANSLATE_SAVE_DIR\n",
    "!mkdir -p $CYCLE_SAVE_DIR\n",
    "\n",
    "# Common parameters\n",
    "CLIP_MODEL = \"openai/clip-vit-base-patch32\"\n",
    "MBART_MODEL = \"facebook/mbart-large-50\"\n",
    "PREFIX_LENGTH = 10\n",
    "MAPPING_NETWORK = \"mlp\""
   ]
  },
  {
   "cell_type": "markdown",
   "metadata": {},
   "source": [
    "## 7. PHASE 1: Caption Training\n",
    "\n",
    "Train the model to generate captions from images"
   ]
  },
  {
   "cell_type": "code",
   "execution_count": null,
   "metadata": {},
   "outputs": [],
   "source": [
    "print(\"Starting PHASE 1 - CAPTION TRAINING\")\n",
    "\n",
    "# Run the training script with appropriate parameters\n",
    "!python train.py \\\n",
    "    --style_a $SRC_LANG \\\n",
    "    --style_b $TGT_LANG \\\n",
    "    --training_phase caption \\\n",
    "    --use_clip \\\n",
    "    --clip_model_name $CLIP_MODEL \\\n",
    "    --prefix_length $PREFIX_LENGTH \\\n",
    "    --mapping_network $MAPPING_NETWORK \\\n",
    "    --image_dir $IMAGES_DIR \\\n",
    "    --caption_file_a $CAPTION_FILE_SRC \\\n",
    "    --caption_file_b $CAPTION_FILE_TGT \\\n",
    "    --caption_file_a_eval $CAPTION_FILE_SRC_EVAL \\\n",
    "    --caption_file_b_eval $CAPTION_FILE_TGT_EVAL \\\n",
    "    --lang $SRC_LANG \\\n",
    "    --batch_size 16 \\\n",
    "    --epochs 5 \\\n",
    "    --save_base_folder $CAPTION_SAVE_DIR \\\n",
    "    --save_steps 1 \\\n",
    "    --learning_rate 2e-5 \\\n",
    "    --lr_scheduler_type \"linear\" \\\n",
    "    --warmup \\\n",
    "    --use_cuda_if_available\n",
    "\n",
    "print(\"Completed PHASE 1 - CAPTION TRAINING\")"
   ]
  },
  {
   "cell_type": "markdown",
   "metadata": {},
   "source": [
    "## 8. PHASE 2: Translation Training\n",
    "\n",
    "Train the model for supervised translation using images as context"
   ]
  },
  {
   "cell_type": "code",
   "execution_count": null,
   "metadata": {},
   "outputs": [],
   "source": [
    "print(\"Starting PHASE 2 - TRANSLATION TRAINING\")\n",
    "\n",
    "# Run the training script with appropriate parameters\n",
    "!python train.py \\\n",
    "    --style_a $SRC_LANG \\\n",
    "    --style_b $TGT_LANG \\\n",
    "    --training_phase translate \\\n",
    "    --use_clip \\\n",
    "    --clip_model_name $CLIP_MODEL \\\n",
    "    --prefix_length $PREFIX_LENGTH \\\n",
    "    --mapping_network $MAPPING_NETWORK \\\n",
    "    --image_dir $IMAGES_DIR \\\n",
    "    --caption_file_a $CAPTION_FILE_SRC \\\n",
    "    --caption_file_b $CAPTION_FILE_TGT \\\n",
    "    --caption_file_a_eval $CAPTION_FILE_SRC_EVAL \\\n",
    "    --caption_file_b_eval $CAPTION_FILE_TGT_EVAL \\\n",
    "    --lang $SRC_LANG \\\n",
    "    --generator_model_tag $MBART_MODEL \\\n",
    "    --discriminator_model_tag \"distilbert-base-multilingual-cased\" \\\n",
    "    --batch_size 16 \\\n",
    "    --epochs 10 \\\n",
    "    --from_pretrained \"${CAPTION_SAVE_DIR}/final/\" \\\n",
    "    --save_base_folder $TRANSLATE_SAVE_DIR \\\n",
    "    --save_steps 1 \\\n",
    "    --learning_rate 2e-5 \\\n",
    "    --lr_scheduler_type \"linear\" \\\n",
    "    --warmup \\\n",
    "    --use_cuda_if_available\n",
    "\n",
    "print(\"Completed PHASE 2 - TRANSLATION TRAINING\")"
   ]
  },
  {
   "cell_type": "markdown",
   "metadata": {},
   "source": [
    "## 9. PHASE 3: Cycle Training\n",
    "\n",
    "Train the full CycleGAN model with cycle consistency"
   ]
  },
  {
   "cell_type": "code",
   "execution_count": null,
   "metadata": {},
   "outputs": [],
   "source": [
    "print(\"Starting PHASE 3 - CYCLE TRAINING\")\n",
    "\n",
    "# Run the training script with appropriate parameters\n",
    "!python train.py \\\n",
    "    --style_a $SRC_LANG \\\n",
    "    --style_b $TGT_LANG \\\n",
    "    --training_phase cycle \\\n",
    "    --use_clip \\\n",
    "    --clip_model_name $CLIP_MODEL \\\n",
    "    --prefix_length $PREFIX_LENGTH \\\n",
    "    --mapping_network $MAPPING_NETWORK \\\n",
    "    --image_dir $IMAGES_DIR \\\n",
    "    --caption_file_a $CAPTION_FILE_SRC \\\n",
    "    --caption_file_b $CAPTION_FILE_TGT \\\n",
    "    --caption_file_a_eval $CAPTION_FILE_SRC_EVAL \\\n",
    "    --caption_file_b_eval $CAPTION_FILE_TGT_EVAL \\\n",
    "    --lang $SRC_LANG \\\n",
    "    --generator_model_tag $MBART_MODEL \\\n",
    "    --discriminator_model_tag \"distilbert-base-multilingual-cased\" \\\n",
    "    --batch_size 8 \\\n",
    "    --epochs 10 \\\n",
    "    --from_pretrained \"${TRANSLATE_SAVE_DIR}/final/\" \\\n",
    "    --save_base_folder $CYCLE_SAVE_DIR \\\n",
    "    --save_steps 1 \\\n",
    "    --learning_rate 1e-5 \\\n",
    "    --lr_scheduler_type \"linear\" \\\n",
    "    --warmup \\\n",
    "    --lambdas \"1|1|0.5|0.5|10\" \\\n",
    "    --use_cuda_if_available\n",
    "\n",
    "print(\"Completed PHASE 3 - CYCLE TRAINING\")"
   ]
  },
  {
   "cell_type": "markdown",
   "metadata": {},
   "source": [
    "## 10. Testing and Evaluation"
   ]
  },
  {
   "cell_type": "code",
   "execution_count": null,
   "metadata": {},
   "outputs": [],
   "source": [
    "print(\"Running evaluation on test set\")\n",
    "\n",
    "# Example test command - adjust as needed based on your test script\n",
    "!python test.py \\\n",
    "    --style_a $SRC_LANG \\\n",
    "    --style_b $TGT_LANG \\\n",
    "    --direction AB \\\n",
    "    --input_mode text \\\n",
    "    --input_file $CAPTION_FILE_SRC_EVAL \\\n",
    "    --output_file \"${CYCLE_SAVE_DIR}/test_output.txt\" \\\n",
    "    --generator_model_tag $MBART_MODEL \\\n",
    "    --model_path \"${CYCLE_SAVE_DIR}/final/\" \\\n",
    "    --use_clip \\\n",
    "    --clip_model_name $CLIP_MODEL \\\n",
    "    --prefix_length $PREFIX_LENGTH \\\n",
    "    --mapping_network $MAPPING_NETWORK \\\n",
    "    --use_cuda_if_available\n",
    "\n",
    "print(\"Evaluation complete!\")"
   ]
  },
  {
   "cell_type": "markdown",
   "metadata": {},
   "source": [
    "## 11. Visualize Results (Optional)"
   ]
  },
  {
   "cell_type": "code",
   "execution_count": null,
   "metadata": {},
   "outputs": [],
   "source": [
    "# Add visualization code if needed\n",
    "import matplotlib.pyplot as plt\n",
    "import pandas as pd\n",
    "\n",
    "# Example: Plot training metrics if saved\n",
    "# This is just a placeholder - replace with actual visualization code\n",
    "try:\n",
    "    loss_file = f\"{CYCLE_SAVE_DIR}/loss.pickle\"\n",
    "    if os.path.exists(loss_file):\n",
    "        import pickle\n",
    "        with open(loss_file, 'rb') as f:\n",
    "            loss_data = pickle.load(f)\n",
    "            \n",
    "        # Plot losses\n",
    "        plt.figure(figsize=(12, 6))\n",
    "        for key in loss_data:\n",
    "            if isinstance(loss_data[key], list):\n",
    "                plt.plot(loss_data[key], label=key)\n",
    "        plt.legend()\n",
    "        plt.title('Training Losses')\n",
    "        plt.show()\n",
    "except Exception as e:\n",
    "    print(f\"Error visualizing results: {e}\")\n",
    "    print(\"Visualization code needs to be adapted to your specific output format.\")"
   ]
  }
 ],
 "metadata": {
  "accelerator": "GPU",
  "colab": {
   "gpuType": "T4",
   "provenance": []
  },
  "kernelspec": {
   "display_name": "Python 3",
   "language": "python",
   "name": "python3"
  },
  "language_info": {
   "codemirror_mode": {
    "name": "ipython",
    "version": 3
   },
   "file_extension": ".py",
   "mimetype": "text/x-python",
   "name": "python",
   "nbconvert_exporter": "python",
   "pygments_lexer": "ipython3",
   "version": "3.7.12"
  }
 },
 "nbformat": 4,
 "nbformat_minor": 4
}
